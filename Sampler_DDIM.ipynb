{
 "cells": [
  {
   "cell_type": "code",
   "execution_count": null,
   "metadata": {},
   "outputs": [],
   "source": [
    "import os\n",
    "\n",
    "import torch\n",
    "from PIL import Image\n",
    "\n",
    "from accelerate import Accelerator\n",
    "from diffusers import UNet2DModel, DDPMPipeline, DDIMPipeline, DDPMScheduler, DDIMScheduler"
   ]
  },
  {
   "cell_type": "code",
   "execution_count": null,
   "metadata": {},
   "outputs": [],
   "source": [
    "from dataclasses import dataclass\n",
    "\n",
    "@dataclass\n",
    "class SamplingConfig:\n",
    "    model_path = \"models/CIFAR10_Noise\" # Path to model folder (must contain `unet` and `scheduler` subfolders)\n",
    "\n",
    "    num_inference_steps = 50            # Number of denoising steps\n",
    "    eta = 0.0                           # 0.0 (Default DDIM), 1.0 (Equiv. to DDPM)\n",
    "    \n",
    "    seed = 10\n",
    "    batch_size = 16                     # Number of images to sample in a batch\n",
    "    rows = 4\n",
    "    cols = 4  \n",
    "\n",
    "    mixed_precision = \"fp16\"\n",
    "    num_train_timesteps = 1000\n",
    "\n",
    "\n",
    "config = SamplingConfig()"
   ]
  },
  {
   "cell_type": "code",
   "execution_count": null,
   "metadata": {},
   "outputs": [],
   "source": [
    "# Load model from path\n",
    "model = UNet2DModel.from_pretrained(os.path.join(config.model_path, \"unet\"))"
   ]
  },
  {
   "cell_type": "code",
   "execution_count": null,
   "metadata": {},
   "outputs": [],
   "source": [
    "# Load the model to device\n",
    "accelerator = Accelerator(mixed_precision = config.mixed_precision)\n",
    "model = accelerator.prepare(model)\n",
    "\n",
    "# Load scheduler from path\n",
    "scheduler = DDIMScheduler.from_pretrained(os.path.join(config.model_path, \"scheduler\"))\n",
    "\n",
    "# Create pipleine\n",
    "pipeline = DDIMPipeline(accelerator.unwrap_model(model), scheduler)"
   ]
  },
  {
   "cell_type": "code",
   "execution_count": null,
   "metadata": {},
   "outputs": [],
   "source": [
    "def make_grid(images, rows, cols):\n",
    "    w, h = images[0].size\n",
    "    grid = Image.new(\"RGB\", size=(cols * w, rows * h))\n",
    "    for i, image in enumerate(images):\n",
    "        grid.paste(image, box=(i % cols * w, i // cols * h))\n",
    "    return grid\n",
    "\n",
    "\n",
    "def sample(config, pipeline):\n",
    "    images = pipeline(\n",
    "        batch_size=config.batch_size,\n",
    "        generator=torch.manual_seed(config.seed),\n",
    "        num_inference_steps=config.num_inference_steps,\n",
    "        eta=config.eta\n",
    "    ).images\n",
    "\n",
    "    image_grid = make_grid(images, rows=config.rows, cols=config.cols)\n",
    "    return image_grid"
   ]
  },
  {
   "cell_type": "code",
   "execution_count": null,
   "metadata": {},
   "outputs": [],
   "source": [
    "sample(config, pipeline)"
   ]
  }
 ],
 "metadata": {
  "kernelspec": {
   "display_name": "Python 3",
   "language": "python",
   "name": "python3"
  },
  "language_info": {
   "codemirror_mode": {
    "name": "ipython",
    "version": 3
   },
   "file_extension": ".py",
   "mimetype": "text/x-python",
   "name": "python",
   "nbconvert_exporter": "python",
   "pygments_lexer": "ipython3",
   "version": "3.13.2"
  }
 },
 "nbformat": 4,
 "nbformat_minor": 2
}
